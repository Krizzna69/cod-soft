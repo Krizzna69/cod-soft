{
  "nbformat": 4,
  "nbformat_minor": 0,
  "metadata": {
    "colab": {
      "provenance": [],
      "authorship_tag": "ABX9TyOtoDDLMelE0oYRHjoaIKsN",
      "include_colab_link": true
    },
    "kernelspec": {
      "name": "python3",
      "display_name": "Python 3"
    },
    "language_info": {
      "name": "python"
    }
  },
  "cells": [
    {
      "cell_type": "markdown",
      "metadata": {
        "id": "view-in-github",
        "colab_type": "text"
      },
      "source": [
        "<a href=\"https://colab.research.google.com/github/Krizzna69/cod-soft/blob/main/fraud.ipynb\" target=\"_parent\"><img src=\"https://colab.research.google.com/assets/colab-badge.svg\" alt=\"Open In Colab\"/></a>"
      ]
    },
    {
      "cell_type": "code",
      "execution_count": null,
      "metadata": {
        "id": "6vw3HM9g_uA3"
      },
      "outputs": [],
      "source": [
        "import numpy as np\n",
        "import pandas as pd\n",
        "import matplotlib.pyplot as plt\n",
        "from sklearn.linear_model import LogisticRegression\n",
        "from sklearn.neighbors import KNeighborsClassifier\n",
        "from sklearn.tree import DecisionTreeClassifier\n",
        "from sklearn.metrics import jaccard_score, f1_score, accuracy_score\n",
        "\n",
        "# Load the training dataset\n",
        "df = pd.read_csv(\"/kaggle/input/fraud-detection/fraudTrain.csv\")\n",
        "df.drop(columns=[\"Unnamed: 0\", \"trans_num\", \"street\"], inplace=True)\n",
        "data = df.head(n=20000)\n",
        "\n",
        "# One-hot encoding for categorical variables\n",
        "df_processed = pd.get_dummies(data=data)\n",
        "\n",
        "x_train = df_processed.drop(columns='is_fraud', axis=1)\n",
        "y_train = df_processed['is_fraud']\n",
        "\n",
        "# Load the test dataset\n",
        "df_test = pd.read_csv(\"/kaggle/input/fraud-detection/fraudTest.csv\")\n",
        "df_test.drop(columns=[\"Unnamed: 0\", \"trans_num\", \"street\"], inplace=True)\n",
        "data_test = df_test.sample(frac=1, random_state=1).reset_index(drop=True)\n",
        "data_test = data_test.head(n=5000)\n",
        "\n",
        "# One-hot encoding for the test data\n",
        "df_processed_test = pd.get_dummies(data=data_test)\n",
        "\n",
        "# Ensure the is_fraud column is included before reindexing\n",
        "df_processed_test['is_fraud'] = data_test['is_fraud']\n",
        "\n",
        "# Align the test data columns with the training data columns\n",
        "df_processed_test = df_processed_test.reindex(columns=df_processed.columns, fill_value=0)\n",
        "\n",
        "x_test = df_processed_test.drop(columns='is_fraud', axis=1)\n",
        "y_test = df_processed_test['is_fraud']\n",
        "\n",
        "# Logistic Regression\n",
        "LR = LogisticRegression(solver='liblinear')\n",
        "LR.fit(x_train, y_train)\n",
        "predictions = LR.predict(x_test)\n",
        "\n",
        "LR_Accuracy_Score = accuracy_score(y_test, predictions)\n",
        "print(\"Logistic Regression Accuracy Score:\", LR_Accuracy_Score)\n",
        "\n",
        "# Decision Tree\n",
        "Tree = DecisionTreeClassifier()\n",
        "Tree.fit(x_train, y_train)\n",
        "predictions = Tree.predict(x_test)\n",
        "\n",
        "Tree_Accuracy_Score = accuracy_score(y_test, predictions)\n",
        "Tree_JaccardIndex = jaccard_score(y_test, predictions)\n",
        "Tree_F1_Score = f1_score(y_test, predictions)\n",
        "\n",
        "print(\"Decision Tree Accuracy Score:\", Tree_Accuracy_Score)\n",
        "print(\"Decision Tree Jaccard Index:\", Tree_JaccardIndex)\n",
        "print(\"Decision Tree F1 Score:\", Tree_F1_Score)\n",
        "\n",
        "# K-Nearest Neighbors\n",
        "knn = KNeighborsClassifier(n_neighbors=4)\n",
        "knn.fit(x_train, y_train)\n",
        "predictions = knn.predict(x_test)\n",
        "\n",
        "KNN_Accuracy_Score = accuracy_score(y_test, predictions)\n",
        "KNN_JaccardIndex = jaccard_score(y_test, predictions)\n",
        "KNN_F1_Score = f1_score(y_test, predictions)\n",
        "\n",
        "print(\"KNN Accuracy Score:\", KNN_Accuracy_Score)\n",
        "print(\"KNN Jaccard Index:\", KNN_JaccardIndex)\n",
        "print(\"KNN F1 Score:\", KNN_F1_Score)\n"
      ]
    }
  ]
}